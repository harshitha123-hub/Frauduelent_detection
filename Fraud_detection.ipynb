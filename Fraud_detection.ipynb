{
 "cells": [
  {
   "cell_type": "code",
   "execution_count": 1,
   "metadata": {},
   "outputs": [],
   "source": [
    "#https://lib.dr.iastate.edu/cgi/viewcontent.cgi?article=1449&context=creativecomponents\n",
    "#https://pages.databricks.com/rs/094-YMS-629/images/financial-fraud-detection-decision-tree.html\n",
    "#https://scholarworks.rit.edu/cgi/viewcontent.cgi?article=11833&context=theses    \n",
    "#https://www.kaggle.com/hassanamin/credit-card-fraud-detection-using-random-forest"
   ]
  },
  {
   "cell_type": "code",
   "execution_count": 2,
   "metadata": {},
   "outputs": [],
   "source": [
    "#!pip install missingno"
   ]
  },
  {
   "cell_type": "code",
   "execution_count": 3,
   "metadata": {},
   "outputs": [],
   "source": [
    "import pandas as pd\n",
    "import numpy as np\n",
    "import matplotlib.pyplot as plt\n",
    "import seaborn as sns\n",
    "import missingno as msno\n",
    "from pandas.plotting import scatter_matrix\n",
    "from scipy import stats\n",
    "from sklearn.metrics import classification_report, accuracy_score,precision_score,recall_score,f1_score,matthews_corrcoef\n",
    "from sklearn.metrics import confusion_matrix\n",
    "from sklearn.metrics import f1_score\n",
    "from scipy import stats\n",
    "from sklearn.preprocessing import LabelBinarizer\n",
    "from sklearn.linear_model import SGDClassifier"
   ]
  },
  {
   "cell_type": "code",
   "execution_count": 4,
   "metadata": {},
   "outputs": [],
   "source": [
    "data = pd.read_csv('fraud.csv')"
   ]
  },
  {
   "cell_type": "code",
   "execution_count": 5,
   "metadata": {},
   "outputs": [
    {
     "data": {
      "text/html": [
       "<div>\n",
       "<style scoped>\n",
       "    .dataframe tbody tr th:only-of-type {\n",
       "        vertical-align: middle;\n",
       "    }\n",
       "\n",
       "    .dataframe tbody tr th {\n",
       "        vertical-align: top;\n",
       "    }\n",
       "\n",
       "    .dataframe thead th {\n",
       "        text-align: right;\n",
       "    }\n",
       "</style>\n",
       "<table border=\"1\" class=\"dataframe\">\n",
       "  <thead>\n",
       "    <tr style=\"text-align: right;\">\n",
       "      <th></th>\n",
       "      <th>step</th>\n",
       "      <th>type</th>\n",
       "      <th>amount</th>\n",
       "      <th>nameOrig</th>\n",
       "      <th>oldbalanceOrg</th>\n",
       "      <th>newbalanceOrig</th>\n",
       "      <th>nameDest</th>\n",
       "      <th>oldbalanceDest</th>\n",
       "      <th>newbalanceDest</th>\n",
       "      <th>isFraud</th>\n",
       "      <th>isFlaggedFraud</th>\n",
       "    </tr>\n",
       "  </thead>\n",
       "  <tbody>\n",
       "    <tr>\n",
       "      <td>0</td>\n",
       "      <td>1</td>\n",
       "      <td>PAYMENT</td>\n",
       "      <td>9839.64</td>\n",
       "      <td>C1231006815</td>\n",
       "      <td>170136.0</td>\n",
       "      <td>160296.36</td>\n",
       "      <td>M1979787155</td>\n",
       "      <td>0.0</td>\n",
       "      <td>0.0</td>\n",
       "      <td>0</td>\n",
       "      <td>0</td>\n",
       "    </tr>\n",
       "    <tr>\n",
       "      <td>1</td>\n",
       "      <td>1</td>\n",
       "      <td>PAYMENT</td>\n",
       "      <td>1864.28</td>\n",
       "      <td>C1666544295</td>\n",
       "      <td>21249.0</td>\n",
       "      <td>19384.72</td>\n",
       "      <td>M2044282225</td>\n",
       "      <td>0.0</td>\n",
       "      <td>0.0</td>\n",
       "      <td>0</td>\n",
       "      <td>0</td>\n",
       "    </tr>\n",
       "    <tr>\n",
       "      <td>2</td>\n",
       "      <td>1</td>\n",
       "      <td>TRANSFER</td>\n",
       "      <td>181.00</td>\n",
       "      <td>C1305486145</td>\n",
       "      <td>181.0</td>\n",
       "      <td>0.00</td>\n",
       "      <td>C553264065</td>\n",
       "      <td>0.0</td>\n",
       "      <td>0.0</td>\n",
       "      <td>1</td>\n",
       "      <td>0</td>\n",
       "    </tr>\n",
       "    <tr>\n",
       "      <td>3</td>\n",
       "      <td>1</td>\n",
       "      <td>CASH_OUT</td>\n",
       "      <td>181.00</td>\n",
       "      <td>C840083671</td>\n",
       "      <td>181.0</td>\n",
       "      <td>0.00</td>\n",
       "      <td>C38997010</td>\n",
       "      <td>21182.0</td>\n",
       "      <td>0.0</td>\n",
       "      <td>1</td>\n",
       "      <td>0</td>\n",
       "    </tr>\n",
       "    <tr>\n",
       "      <td>4</td>\n",
       "      <td>1</td>\n",
       "      <td>PAYMENT</td>\n",
       "      <td>11668.14</td>\n",
       "      <td>C2048537720</td>\n",
       "      <td>41554.0</td>\n",
       "      <td>29885.86</td>\n",
       "      <td>M1230701703</td>\n",
       "      <td>0.0</td>\n",
       "      <td>0.0</td>\n",
       "      <td>0</td>\n",
       "      <td>0</td>\n",
       "    </tr>\n",
       "  </tbody>\n",
       "</table>\n",
       "</div>"
      ],
      "text/plain": [
       "   step      type    amount     nameOrig  oldbalanceOrg  newbalanceOrig  \\\n",
       "0     1   PAYMENT   9839.64  C1231006815       170136.0       160296.36   \n",
       "1     1   PAYMENT   1864.28  C1666544295        21249.0        19384.72   \n",
       "2     1  TRANSFER    181.00  C1305486145          181.0            0.00   \n",
       "3     1  CASH_OUT    181.00   C840083671          181.0            0.00   \n",
       "4     1   PAYMENT  11668.14  C2048537720        41554.0        29885.86   \n",
       "\n",
       "      nameDest  oldbalanceDest  newbalanceDest  isFraud  isFlaggedFraud  \n",
       "0  M1979787155             0.0             0.0        0               0  \n",
       "1  M2044282225             0.0             0.0        0               0  \n",
       "2   C553264065             0.0             0.0        1               0  \n",
       "3    C38997010         21182.0             0.0        1               0  \n",
       "4  M1230701703             0.0             0.0        0               0  "
      ]
     },
     "execution_count": 5,
     "metadata": {},
     "output_type": "execute_result"
    }
   ],
   "source": [
    "data.head(5)"
   ]
  },
  {
   "cell_type": "markdown",
   "metadata": {},
   "source": [
    "### Observation:\n",
    "    1.step- maps a unit of time in the real world. In this case 1 step is 1 hour of time. Total steps 744 (30 dayssimulation).\n",
    "             means each hour of one month: for example, each record with step = 1 means it happened in the first hour on the \n",
    "            first day of the experimental month, and each record with step = 744 occurred in the last hour of the month.\n",
    "            24 hours * 31 days = 744step\n",
    "\n",
    "    2.type - Type is a categorical variable involving 5 different transaction types, including CASH-IN,\n",
    "            CASH-OUT, DEBIT, PAYMENT and TRANSFER. CASH-IN means the customer’s account\n",
    "            balance increased with cash inflow; CASH-OUT is opposite to CASH-IN, with cash outflow to\n",
    "            decrease the account balance; DEBIT signifies sending money from the mobile service\n",
    "            (electronic wallet) to a bank account; PAYMENT denotes customers paying goods or services to\n",
    "            merchants, which will reduce customer’s account balances and increase merchants’ account\n",
    "            balances; TRANSFER is the process of transferring money between users.\n",
    "\n",
    "    3.amount - amount of the transaction in local currency.\n",
    "\n",
    "    4.nameOrig - customer who started the transaction\n",
    "\n",
    "    5.oldbalanceOrg - initial balance before the transaction\n",
    "\n",
    "    6.newbalanceOrig - new balance after the transaction\n",
    "\n",
    "    7.nameDest - customer who is the recipient of the transaction\n",
    "\n",
    "    8.oldbalanceDest - initial balance recipient before the transaction. Note that there is not information for \n",
    "                        customers that start with M (Merchants).\n",
    "\n",
    "    9.newbalanceDest - new balance recipient after the transaction. Note that there is not information for \n",
    "                        customers that start with M (Merchants).\n",
    "\n",
    "    10.isFraud - This is the transactions made by the fraudulent agents inside the simulation. \n",
    "                  In this specific dataset the fraudulent behavior of the agents aims to\n",
    "                   profit by taking control or customers accounts and try to empty the funds by \n",
    "                   transferring to another account and then cashing out of the system.\n",
    "\n",
    "    11.isFlaggedFraud - isFlaggedFraud is an additional attribute that the mobile service system used for controlling\n",
    "                    massive transfers. According to the definition, when there was an attempt to transfer more than\n",
    "                    200,000 units (in local currency) in a single transaction, isFlaggedFraud would be set to 1;\n",
    "                    otherwise it would be 0. It doesn’t have a definite relation with isFraud.\n"
   ]
  },
  {
   "cell_type": "markdown",
   "metadata": {},
   "source": [
    " '''There\n",
    "are 11 attributes in total, including 7 independent variables representing the features of a\n",
    "transaction, 1 dependent variable standing for the status of a transaction, and 3 variables that are\n",
    "not considered as relevant influencers, which will be dropped'''"
   ]
  },
  {
   "cell_type": "markdown",
   "metadata": {},
   "source": [
    "## Exploratory Data Analysis"
   ]
  },
  {
   "cell_type": "code",
   "execution_count": 6,
   "metadata": {},
   "outputs": [
    {
     "data": {
      "text/plain": [
       "(6362620, 11)"
      ]
     },
     "execution_count": 6,
     "metadata": {},
     "output_type": "execute_result"
    }
   ],
   "source": [
    "data.shape"
   ]
  },
  {
   "cell_type": "code",
   "execution_count": 7,
   "metadata": {},
   "outputs": [
    {
     "name": "stdout",
     "output_type": "stream",
     "text": [
      "<class 'pandas.core.frame.DataFrame'>\n",
      "RangeIndex: 6362620 entries, 0 to 6362619\n",
      "Data columns (total 11 columns):\n",
      "step              int64\n",
      "type              object\n",
      "amount            float64\n",
      "nameOrig          object\n",
      "oldbalanceOrg     float64\n",
      "newbalanceOrig    float64\n",
      "nameDest          object\n",
      "oldbalanceDest    float64\n",
      "newbalanceDest    float64\n",
      "isFraud           int64\n",
      "isFlaggedFraud    int64\n",
      "dtypes: float64(5), int64(3), object(3)\n",
      "memory usage: 534.0+ MB\n"
     ]
    }
   ],
   "source": [
    "data.info()"
   ]
  },
  {
   "cell_type": "code",
   "execution_count": 8,
   "metadata": {},
   "outputs": [
    {
     "data": {
      "text/html": [
       "<div>\n",
       "<style scoped>\n",
       "    .dataframe tbody tr th:only-of-type {\n",
       "        vertical-align: middle;\n",
       "    }\n",
       "\n",
       "    .dataframe tbody tr th {\n",
       "        vertical-align: top;\n",
       "    }\n",
       "\n",
       "    .dataframe thead th {\n",
       "        text-align: right;\n",
       "    }\n",
       "</style>\n",
       "<table border=\"1\" class=\"dataframe\">\n",
       "  <thead>\n",
       "    <tr style=\"text-align: right;\">\n",
       "      <th></th>\n",
       "      <th>step</th>\n",
       "      <th>amount</th>\n",
       "      <th>oldbalanceOrg</th>\n",
       "      <th>newbalanceOrig</th>\n",
       "      <th>oldbalanceDest</th>\n",
       "      <th>newbalanceDest</th>\n",
       "      <th>isFraud</th>\n",
       "      <th>isFlaggedFraud</th>\n",
       "    </tr>\n",
       "  </thead>\n",
       "  <tbody>\n",
       "    <tr>\n",
       "      <td>count</td>\n",
       "      <td>6.362620e+06</td>\n",
       "      <td>6.362620e+06</td>\n",
       "      <td>6.362620e+06</td>\n",
       "      <td>6.362620e+06</td>\n",
       "      <td>6.362620e+06</td>\n",
       "      <td>6.362620e+06</td>\n",
       "      <td>6.362620e+06</td>\n",
       "      <td>6.362620e+06</td>\n",
       "    </tr>\n",
       "    <tr>\n",
       "      <td>mean</td>\n",
       "      <td>2.433972e+02</td>\n",
       "      <td>1.798619e+05</td>\n",
       "      <td>8.338831e+05</td>\n",
       "      <td>8.551137e+05</td>\n",
       "      <td>1.100702e+06</td>\n",
       "      <td>1.224996e+06</td>\n",
       "      <td>1.290820e-03</td>\n",
       "      <td>2.514687e-06</td>\n",
       "    </tr>\n",
       "    <tr>\n",
       "      <td>std</td>\n",
       "      <td>1.423320e+02</td>\n",
       "      <td>6.038582e+05</td>\n",
       "      <td>2.888243e+06</td>\n",
       "      <td>2.924049e+06</td>\n",
       "      <td>3.399180e+06</td>\n",
       "      <td>3.674129e+06</td>\n",
       "      <td>3.590480e-02</td>\n",
       "      <td>1.585775e-03</td>\n",
       "    </tr>\n",
       "    <tr>\n",
       "      <td>min</td>\n",
       "      <td>1.000000e+00</td>\n",
       "      <td>0.000000e+00</td>\n",
       "      <td>0.000000e+00</td>\n",
       "      <td>0.000000e+00</td>\n",
       "      <td>0.000000e+00</td>\n",
       "      <td>0.000000e+00</td>\n",
       "      <td>0.000000e+00</td>\n",
       "      <td>0.000000e+00</td>\n",
       "    </tr>\n",
       "    <tr>\n",
       "      <td>25%</td>\n",
       "      <td>1.560000e+02</td>\n",
       "      <td>1.338957e+04</td>\n",
       "      <td>0.000000e+00</td>\n",
       "      <td>0.000000e+00</td>\n",
       "      <td>0.000000e+00</td>\n",
       "      <td>0.000000e+00</td>\n",
       "      <td>0.000000e+00</td>\n",
       "      <td>0.000000e+00</td>\n",
       "    </tr>\n",
       "    <tr>\n",
       "      <td>50%</td>\n",
       "      <td>2.390000e+02</td>\n",
       "      <td>7.487194e+04</td>\n",
       "      <td>1.420800e+04</td>\n",
       "      <td>0.000000e+00</td>\n",
       "      <td>1.327057e+05</td>\n",
       "      <td>2.146614e+05</td>\n",
       "      <td>0.000000e+00</td>\n",
       "      <td>0.000000e+00</td>\n",
       "    </tr>\n",
       "    <tr>\n",
       "      <td>75%</td>\n",
       "      <td>3.350000e+02</td>\n",
       "      <td>2.087215e+05</td>\n",
       "      <td>1.073152e+05</td>\n",
       "      <td>1.442584e+05</td>\n",
       "      <td>9.430367e+05</td>\n",
       "      <td>1.111909e+06</td>\n",
       "      <td>0.000000e+00</td>\n",
       "      <td>0.000000e+00</td>\n",
       "    </tr>\n",
       "    <tr>\n",
       "      <td>max</td>\n",
       "      <td>7.430000e+02</td>\n",
       "      <td>9.244552e+07</td>\n",
       "      <td>5.958504e+07</td>\n",
       "      <td>4.958504e+07</td>\n",
       "      <td>3.560159e+08</td>\n",
       "      <td>3.561793e+08</td>\n",
       "      <td>1.000000e+00</td>\n",
       "      <td>1.000000e+00</td>\n",
       "    </tr>\n",
       "  </tbody>\n",
       "</table>\n",
       "</div>"
      ],
      "text/plain": [
       "               step        amount  oldbalanceOrg  newbalanceOrig  \\\n",
       "count  6.362620e+06  6.362620e+06   6.362620e+06    6.362620e+06   \n",
       "mean   2.433972e+02  1.798619e+05   8.338831e+05    8.551137e+05   \n",
       "std    1.423320e+02  6.038582e+05   2.888243e+06    2.924049e+06   \n",
       "min    1.000000e+00  0.000000e+00   0.000000e+00    0.000000e+00   \n",
       "25%    1.560000e+02  1.338957e+04   0.000000e+00    0.000000e+00   \n",
       "50%    2.390000e+02  7.487194e+04   1.420800e+04    0.000000e+00   \n",
       "75%    3.350000e+02  2.087215e+05   1.073152e+05    1.442584e+05   \n",
       "max    7.430000e+02  9.244552e+07   5.958504e+07    4.958504e+07   \n",
       "\n",
       "       oldbalanceDest  newbalanceDest       isFraud  isFlaggedFraud  \n",
       "count    6.362620e+06    6.362620e+06  6.362620e+06    6.362620e+06  \n",
       "mean     1.100702e+06    1.224996e+06  1.290820e-03    2.514687e-06  \n",
       "std      3.399180e+06    3.674129e+06  3.590480e-02    1.585775e-03  \n",
       "min      0.000000e+00    0.000000e+00  0.000000e+00    0.000000e+00  \n",
       "25%      0.000000e+00    0.000000e+00  0.000000e+00    0.000000e+00  \n",
       "50%      1.327057e+05    2.146614e+05  0.000000e+00    0.000000e+00  \n",
       "75%      9.430367e+05    1.111909e+06  0.000000e+00    0.000000e+00  \n",
       "max      3.560159e+08    3.561793e+08  1.000000e+00    1.000000e+00  "
      ]
     },
     "execution_count": 8,
     "metadata": {},
     "output_type": "execute_result"
    }
   ],
   "source": [
    "data.describe()"
   ]
  },
  {
   "cell_type": "code",
   "execution_count": 9,
   "metadata": {},
   "outputs": [
    {
     "name": "stdout",
     "output_type": "stream",
     "text": [
      "Fraud Transactions 8213\n",
      "Valid Tansaction 6354407\n"
     ]
    }
   ],
   "source": [
    "Fraud = data[data['isFraud'] == 1]\n",
    "Valid = data[data['isFraud'] == 0]\n",
    "\n",
    "print(\"Fraud Transactions\",len(Fraud))\n",
    "print(\"Valid Tansaction\",len(Valid))"
   ]
  },
  {
   "cell_type": "code",
   "execution_count": 10,
   "metadata": {},
   "outputs": [
    {
     "name": "stdout",
     "output_type": "stream",
     "text": [
      "Amount details of fradulent transacation\n",
      "count    8.213000e+03\n",
      "mean     1.467967e+06\n",
      "std      2.404253e+06\n",
      "min      0.000000e+00\n",
      "25%      1.270913e+05\n",
      "50%      4.414234e+05\n",
      "75%      1.517771e+06\n",
      "max      1.000000e+07\n",
      "Name: amount, dtype: float64\n",
      "\n",
      "\n",
      "Amount details of Valid transacation\n",
      "count    6.354407e+06\n",
      "mean     1.781970e+05\n",
      "std      5.962370e+05\n",
      "min      1.000000e-02\n",
      "25%      1.336840e+04\n",
      "50%      7.468472e+04\n",
      "75%      2.083648e+05\n",
      "max      9.244552e+07\n",
      "Name: amount, dtype: float64\n"
     ]
    }
   ],
   "source": [
    "print(\"Amount details of fradulent transacation\")\n",
    "print(Fraud.amount.describe())\n",
    "print('\\n')\n",
    "print(\"Amount details of Valid transacation\")\n",
    "print(Valid.amount.describe())"
   ]
  },
  {
   "cell_type": "code",
   "execution_count": 11,
   "metadata": {},
   "outputs": [
    {
     "data": {
      "text/plain": [
       "step              0\n",
       "type              0\n",
       "amount            0\n",
       "nameOrig          0\n",
       "oldbalanceOrg     0\n",
       "newbalanceOrig    0\n",
       "nameDest          0\n",
       "oldbalanceDest    0\n",
       "newbalanceDest    0\n",
       "isFraud           0\n",
       "isFlaggedFraud    0\n",
       "dtype: int64"
      ]
     },
     "execution_count": 11,
     "metadata": {},
     "output_type": "execute_result"
    }
   ],
   "source": [
    "data.isnull().sum()"
   ]
  },
  {
   "cell_type": "markdown",
   "metadata": {},
   "source": [
    "## Visualization"
   ]
  },
  {
   "cell_type": "code",
   "execution_count": 12,
   "metadata": {},
   "outputs": [
    {
     "data": {
      "image/png": "[encoded data removed]",
      "text/plain": [
       "<Figure size 1800x720 with 3 Axes>"
      ]
     },
     "metadata": {
      "needs_background": "light"
     },
     "output_type": "display_data"
    }
   ],
   "source": [
    "## null count analysis\n",
    "p=msno.bar(data)"
   ]
  },
  {
   "cell_type": "code",
   "execution_count": 13,
   "metadata": {},
   "outputs": [
    {
     "name": "stderr",
     "output_type": "stream",
     "text": [
      "C:\\Users\\Acer\\Anaconda3\\lib\\site-packages\\scipy\\stats\\stats.py:1713: FutureWarning: Using a non-tuple sequence for multidimensional indexing is deprecated; use `arr[tuple(seq)]` instead of `arr[seq]`. In the future this will be interpreted as an array index, `arr[np.array(seq)]`, which will result either in an error or a different result.\n",
      "  return np.add.reduce(sorted[indexer] * weights, axis=axis) / sumval\n"
     ]
    },
    {
     "data": {
      "text/plain": [
       "<matplotlib.axes._subplots.AxesSubplot at 0x1948773b5c8>"
      ]
     },
     "execution_count": 13,
     "metadata": {},
     "output_type": "execute_result"
    },
    {
     "data": {
      "image/png": "[encoded data removed]",
      "text/plain": [
       "<Figure size 432x288 with 1 Axes>"
      ]
     },
     "metadata": {
      "needs_background": "light"
     },
     "output_type": "display_data"
    }
   ],
   "source": [
    "# distribution of Time\n",
    "time = data['step'].values\n",
    "sns.distplot(time)"
   ]
  },
  {
   "cell_type": "code",
   "execution_count": 14,
   "metadata": {},
   "outputs": [
    {
     "data": {
      "text/plain": [
       "<matplotlib.axes._subplots.AxesSubplot at 0x194878b0148>"
      ]
     },
     "execution_count": 14,
     "metadata": {},
     "output_type": "execute_result"
    },
    {
     "data": {
      "image/png": "[encoded data removed]",
      "text/plain": [
       "<Figure size 432x288 with 1 Axes>"
      ]
     },
     "metadata": {
      "needs_background": "light"
     },
     "output_type": "display_data"
    }
   ],
   "source": [
    "#amount distribution\n",
    "amount = [data['amount'].values]\n",
    "sns.distplot(amount)"
   ]
  },
  {
   "cell_type": "code",
   "execution_count": 15,
   "metadata": {},
   "outputs": [
    {
     "data": {
      "image/png": "[encoded data removed]",
      "text/plain": [
       "<Figure size 1440x1440 with 9 Axes>"
      ]
     },
     "metadata": {
      "needs_background": "light"
     },
     "output_type": "display_data"
    }
   ],
   "source": [
    "# Plot histograms of each parameter \n",
    "data.hist(figsize = (20, 20))\n",
    "plt.show()"
   ]
  },
  {
   "cell_type": "markdown",
   "metadata": {},
   "source": [
    "### Feature: isFraud"
   ]
  },
  {
   "cell_type": "code",
   "execution_count": 16,
   "metadata": {},
   "outputs": [
    {
     "name": "stdout",
     "output_type": "stream",
     "text": [
      "isFraud\n",
      "0    6354407\n",
      "1       8213\n",
      "Name: amount, dtype: int64\n"
     ]
    }
   ],
   "source": [
    "print(data.groupby('isFraud')['amount'].count())"
   ]
  },
  {
   "cell_type": "code",
   "execution_count": 17,
   "metadata": {},
   "outputs": [
    {
     "name": "stdout",
     "output_type": "stream",
     "text": [
      "isFraud\n",
      "0    6354407\n",
      "1       8213\n",
      "Name: amount, dtype: int64\n",
      "\n",
      "\n",
      "--> legitimate cases (isFraud = 0):\n",
      "   99.87%\n",
      "\n",
      "--> Fraudalent cases (isFraud = 1):\n",
      "   0.13%\n"
     ]
    },
    {
     "data": {
      "image/png": "[encoded data removed]",
      "text/plain": [
       "<Figure size 432x288 with 1 Axes>"
      ]
     },
     "metadata": {
      "needs_background": "light"
     },
     "output_type": "display_data"
    }
   ],
   "source": [
    "data.groupby('isFraud')['amount'].count().plot.bar()\n",
    "print(data.groupby('isFraud')['amount'].count())\n",
    "print('\\n')\n",
    "print('--> legitimate cases (isFraud = 0):\\n   {}%'.format(100 - round(data['isFraud'].mean()*100, 2)))\n",
    "print('\\n--> Fraudalent cases (isFraud = 1):\\n   {}%'.format(round(data['isFraud'].mean()*100, 2)))"
   ]
  },
  {
   "cell_type": "markdown",
   "metadata": {},
   "source": [
    "### Observation:\n",
    "Data is highly imbalanced in the two classes, with only 8213 fraudulent cases (0.13%) and 6,354,407(99.87%)legitimatecases to mitigate the effect caused by skewness, stratified sampling can beadopted to create subsamples, in which raudulent and non-fraudulent transactionswill be equally distributed. \n",
    "\n",
    "By above analysis we can see that data is highly imbalanced and distrubution looks skewed if we build model on top this data the model may become majority class dependent so,we need to try balancing data as much as we can using undersampling and oversampling."
   ]
  },
  {
   "cell_type": "markdown",
   "metadata": {},
   "source": [
    "## FeatureWise Analysis"
   ]
  },
  {
   "cell_type": "markdown",
   "metadata": {},
   "source": [
    "### Feature: type"
   ]
  },
  {
   "cell_type": "code",
   "execution_count": 18,
   "metadata": {},
   "outputs": [
    {
     "data": {
      "text/plain": [
       "<matplotlib.axes._subplots.AxesSubplot at 0x1948ad1edc8>"
      ]
     },
     "execution_count": 18,
     "metadata": {},
     "output_type": "execute_result"
    },
    {
     "data": {
      "image/png": "[encoded data removed]",
      "text/plain": [
       "<Figure size 432x288 with 1 Axes>"
      ]
     },
     "metadata": {
      "needs_background": "light"
     },
     "output_type": "display_data"
    }
   ],
   "source": [
    "sns.barplot('type','isFraud',hue='type',data=data)"
   ]
  },
  {
   "cell_type": "markdown",
   "metadata": {},
   "source": [
    "### Observation\n",
    "    type is a categorical variable with 5 possible values: CASH-IN, CASH-OUT, DEBIT,PAYMENT and TRANSFER. To explore each type value is crucial or not for the research,It turns out all the fraudulent records were either CASH_OUT or TRANSFER. To simply later analysis, we decided to only keep these two types and the other three were left out. A dummydata frame was created to extract type.CASH_OUT and type.TRANSFER, which were combined with all the other variables."
   ]
  },
  {
   "cell_type": "code",
   "execution_count": 19,
   "metadata": {},
   "outputs": [
    {
     "name": "stdout",
     "output_type": "stream",
     "text": [
      "The new data now has  2770409  transactions.\n"
     ]
    }
   ],
   "source": [
    "#droping CASH-IN,PAYMENT,DEBIT because they won't present in case of fraudulent records\n",
    "#undersampling without lossing important data\n",
    "data = data.loc[data['type'].isin(['CASH_OUT', 'TRANSFER']),:]\n",
    "print('The new data now has ', len(data), ' transactions.')"
   ]
  },
  {
   "cell_type": "code",
   "execution_count": 20,
   "metadata": {},
   "outputs": [
    {
     "data": {
      "text/html": [
       "<div>\n",
       "<style scoped>\n",
       "    .dataframe tbody tr th:only-of-type {\n",
       "        vertical-align: middle;\n",
       "    }\n",
       "\n",
       "    .dataframe tbody tr th {\n",
       "        vertical-align: top;\n",
       "    }\n",
       "\n",
       "    .dataframe thead th {\n",
       "        text-align: right;\n",
       "    }\n",
       "</style>\n",
       "<table border=\"1\" class=\"dataframe\">\n",
       "  <thead>\n",
       "    <tr style=\"text-align: right;\">\n",
       "      <th></th>\n",
       "      <th>CASH_OUT</th>\n",
       "      <th>TRANSFER</th>\n",
       "    </tr>\n",
       "  </thead>\n",
       "  <tbody>\n",
       "    <tr>\n",
       "      <td>2</td>\n",
       "      <td>0</td>\n",
       "      <td>1</td>\n",
       "    </tr>\n",
       "    <tr>\n",
       "      <td>3</td>\n",
       "      <td>1</td>\n",
       "      <td>0</td>\n",
       "    </tr>\n",
       "    <tr>\n",
       "      <td>15</td>\n",
       "      <td>1</td>\n",
       "      <td>0</td>\n",
       "    </tr>\n",
       "    <tr>\n",
       "      <td>19</td>\n",
       "      <td>0</td>\n",
       "      <td>1</td>\n",
       "    </tr>\n",
       "    <tr>\n",
       "      <td>24</td>\n",
       "      <td>0</td>\n",
       "      <td>1</td>\n",
       "    </tr>\n",
       "    <tr>\n",
       "      <td>...</td>\n",
       "      <td>...</td>\n",
       "      <td>...</td>\n",
       "    </tr>\n",
       "    <tr>\n",
       "      <td>6362615</td>\n",
       "      <td>1</td>\n",
       "      <td>0</td>\n",
       "    </tr>\n",
       "    <tr>\n",
       "      <td>6362616</td>\n",
       "      <td>0</td>\n",
       "      <td>1</td>\n",
       "    </tr>\n",
       "    <tr>\n",
       "      <td>6362617</td>\n",
       "      <td>1</td>\n",
       "      <td>0</td>\n",
       "    </tr>\n",
       "    <tr>\n",
       "      <td>6362618</td>\n",
       "      <td>0</td>\n",
       "      <td>1</td>\n",
       "    </tr>\n",
       "    <tr>\n",
       "      <td>6362619</td>\n",
       "      <td>1</td>\n",
       "      <td>0</td>\n",
       "    </tr>\n",
       "  </tbody>\n",
       "</table>\n",
       "<p>2770409 rows × 2 columns</p>\n",
       "</div>"
      ],
      "text/plain": [
       "         CASH_OUT  TRANSFER\n",
       "2               0         1\n",
       "3               1         0\n",
       "15              1         0\n",
       "19              0         1\n",
       "24              0         1\n",
       "...           ...       ...\n",
       "6362615         1         0\n",
       "6362616         0         1\n",
       "6362617         1         0\n",
       "6362618         0         1\n",
       "6362619         1         0\n",
       "\n",
       "[2770409 rows x 2 columns]"
      ]
     },
     "execution_count": 20,
     "metadata": {},
     "output_type": "execute_result"
    }
   ],
   "source": [
    "dummies = pd.get_dummies(data.type)\n",
    "dummies"
   ]
  },
  {
   "cell_type": "code",
   "execution_count": 21,
   "metadata": {},
   "outputs": [
    {
     "data": {
      "text/html": [
       "<div>\n",
       "<style scoped>\n",
       "    .dataframe tbody tr th:only-of-type {\n",
       "        vertical-align: middle;\n",
       "    }\n",
       "\n",
       "    .dataframe tbody tr th {\n",
       "        vertical-align: top;\n",
       "    }\n",
       "\n",
       "    .dataframe thead th {\n",
       "        text-align: right;\n",
       "    }\n",
       "</style>\n",
       "<table border=\"1\" class=\"dataframe\">\n",
       "  <thead>\n",
       "    <tr style=\"text-align: right;\">\n",
       "      <th></th>\n",
       "      <th>step</th>\n",
       "      <th>amount</th>\n",
       "      <th>nameOrig</th>\n",
       "      <th>oldbalanceOrg</th>\n",
       "      <th>newbalanceOrig</th>\n",
       "      <th>nameDest</th>\n",
       "      <th>oldbalanceDest</th>\n",
       "      <th>newbalanceDest</th>\n",
       "      <th>isFraud</th>\n",
       "      <th>isFlaggedFraud</th>\n",
       "      <th>CASH_OUT</th>\n",
       "      <th>TRANSFER</th>\n",
       "    </tr>\n",
       "  </thead>\n",
       "  <tbody>\n",
       "    <tr>\n",
       "      <td>2</td>\n",
       "      <td>1</td>\n",
       "      <td>181.00</td>\n",
       "      <td>C1305486145</td>\n",
       "      <td>181.00</td>\n",
       "      <td>0.0</td>\n",
       "      <td>C553264065</td>\n",
       "      <td>0.00</td>\n",
       "      <td>0.00</td>\n",
       "      <td>1</td>\n",
       "      <td>0</td>\n",
       "      <td>0</td>\n",
       "      <td>1</td>\n",
       "    </tr>\n",
       "    <tr>\n",
       "      <td>3</td>\n",
       "      <td>1</td>\n",
       "      <td>181.00</td>\n",
       "      <td>C840083671</td>\n",
       "      <td>181.00</td>\n",
       "      <td>0.0</td>\n",
       "      <td>C38997010</td>\n",
       "      <td>21182.00</td>\n",
       "      <td>0.00</td>\n",
       "      <td>1</td>\n",
       "      <td>0</td>\n",
       "      <td>1</td>\n",
       "      <td>0</td>\n",
       "    </tr>\n",
       "    <tr>\n",
       "      <td>15</td>\n",
       "      <td>1</td>\n",
       "      <td>229133.94</td>\n",
       "      <td>C905080434</td>\n",
       "      <td>15325.00</td>\n",
       "      <td>0.0</td>\n",
       "      <td>C476402209</td>\n",
       "      <td>5083.00</td>\n",
       "      <td>51513.44</td>\n",
       "      <td>0</td>\n",
       "      <td>0</td>\n",
       "      <td>1</td>\n",
       "      <td>0</td>\n",
       "    </tr>\n",
       "    <tr>\n",
       "      <td>19</td>\n",
       "      <td>1</td>\n",
       "      <td>215310.30</td>\n",
       "      <td>C1670993182</td>\n",
       "      <td>705.00</td>\n",
       "      <td>0.0</td>\n",
       "      <td>C1100439041</td>\n",
       "      <td>22425.00</td>\n",
       "      <td>0.00</td>\n",
       "      <td>0</td>\n",
       "      <td>0</td>\n",
       "      <td>0</td>\n",
       "      <td>1</td>\n",
       "    </tr>\n",
       "    <tr>\n",
       "      <td>24</td>\n",
       "      <td>1</td>\n",
       "      <td>311685.89</td>\n",
       "      <td>C1984094095</td>\n",
       "      <td>10835.00</td>\n",
       "      <td>0.0</td>\n",
       "      <td>C932583850</td>\n",
       "      <td>6267.00</td>\n",
       "      <td>2719172.89</td>\n",
       "      <td>0</td>\n",
       "      <td>0</td>\n",
       "      <td>0</td>\n",
       "      <td>1</td>\n",
       "    </tr>\n",
       "    <tr>\n",
       "      <td>...</td>\n",
       "      <td>...</td>\n",
       "      <td>...</td>\n",
       "      <td>...</td>\n",
       "      <td>...</td>\n",
       "      <td>...</td>\n",
       "      <td>...</td>\n",
       "      <td>...</td>\n",
       "      <td>...</td>\n",
       "      <td>...</td>\n",
       "      <td>...</td>\n",
       "      <td>...</td>\n",
       "      <td>...</td>\n",
       "    </tr>\n",
       "    <tr>\n",
       "      <td>6362615</td>\n",
       "      <td>743</td>\n",
       "      <td>339682.13</td>\n",
       "      <td>C786484425</td>\n",
       "      <td>339682.13</td>\n",
       "      <td>0.0</td>\n",
       "      <td>C776919290</td>\n",
       "      <td>0.00</td>\n",
       "      <td>339682.13</td>\n",
       "      <td>1</td>\n",
       "      <td>0</td>\n",
       "      <td>1</td>\n",
       "      <td>0</td>\n",
       "    </tr>\n",
       "    <tr>\n",
       "      <td>6362616</td>\n",
       "      <td>743</td>\n",
       "      <td>6311409.28</td>\n",
       "      <td>C1529008245</td>\n",
       "      <td>6311409.28</td>\n",
       "      <td>0.0</td>\n",
       "      <td>C1881841831</td>\n",
       "      <td>0.00</td>\n",
       "      <td>0.00</td>\n",
       "      <td>1</td>\n",
       "      <td>0</td>\n",
       "      <td>0</td>\n",
       "      <td>1</td>\n",
       "    </tr>\n",
       "    <tr>\n",
       "      <td>6362617</td>\n",
       "      <td>743</td>\n",
       "      <td>6311409.28</td>\n",
       "      <td>C1162922333</td>\n",
       "      <td>6311409.28</td>\n",
       "      <td>0.0</td>\n",
       "      <td>C1365125890</td>\n",
       "      <td>68488.84</td>\n",
       "      <td>6379898.11</td>\n",
       "      <td>1</td>\n",
       "      <td>0</td>\n",
       "      <td>1</td>\n",
       "      <td>0</td>\n",
       "    </tr>\n",
       "    <tr>\n",
       "      <td>6362618</td>\n",
       "      <td>743</td>\n",
       "      <td>850002.52</td>\n",
       "      <td>C1685995037</td>\n",
       "      <td>850002.52</td>\n",
       "      <td>0.0</td>\n",
       "      <td>C2080388513</td>\n",
       "      <td>0.00</td>\n",
       "      <td>0.00</td>\n",
       "      <td>1</td>\n",
       "      <td>0</td>\n",
       "      <td>0</td>\n",
       "      <td>1</td>\n",
       "    </tr>\n",
       "    <tr>\n",
       "      <td>6362619</td>\n",
       "      <td>743</td>\n",
       "      <td>850002.52</td>\n",
       "      <td>C1280323807</td>\n",
       "      <td>850002.52</td>\n",
       "      <td>0.0</td>\n",
       "      <td>C873221189</td>\n",
       "      <td>6510099.11</td>\n",
       "      <td>7360101.63</td>\n",
       "      <td>1</td>\n",
       "      <td>0</td>\n",
       "      <td>1</td>\n",
       "      <td>0</td>\n",
       "    </tr>\n",
       "  </tbody>\n",
       "</table>\n",
       "<p>2770409 rows × 12 columns</p>\n",
       "</div>"
      ],
      "text/plain": [
       "         step      amount     nameOrig  oldbalanceOrg  newbalanceOrig  \\\n",
       "2           1      181.00  C1305486145         181.00             0.0   \n",
       "3           1      181.00   C840083671         181.00             0.0   \n",
       "15          1   229133.94   C905080434       15325.00             0.0   \n",
       "19          1   215310.30  C1670993182         705.00             0.0   \n",
       "24          1   311685.89  C1984094095       10835.00             0.0   \n",
       "...       ...         ...          ...            ...             ...   \n",
       "6362615   743   339682.13   C786484425      339682.13             0.0   \n",
       "6362616   743  6311409.28  C1529008245     6311409.28             0.0   \n",
       "6362617   743  6311409.28  C1162922333     6311409.28             0.0   \n",
       "6362618   743   850002.52  C1685995037      850002.52             0.0   \n",
       "6362619   743   850002.52  C1280323807      850002.52             0.0   \n",
       "\n",
       "            nameDest  oldbalanceDest  newbalanceDest  isFraud  isFlaggedFraud  \\\n",
       "2         C553264065            0.00            0.00        1               0   \n",
       "3          C38997010        21182.00            0.00        1               0   \n",
       "15        C476402209         5083.00        51513.44        0               0   \n",
       "19       C1100439041        22425.00            0.00        0               0   \n",
       "24        C932583850         6267.00      2719172.89        0               0   \n",
       "...              ...             ...             ...      ...             ...   \n",
       "6362615   C776919290            0.00       339682.13        1               0   \n",
       "6362616  C1881841831            0.00            0.00        1               0   \n",
       "6362617  C1365125890        68488.84      6379898.11        1               0   \n",
       "6362618  C2080388513            0.00            0.00        1               0   \n",
       "6362619   C873221189      6510099.11      7360101.63        1               0   \n",
       "\n",
       "         CASH_OUT  TRANSFER  \n",
       "2               0         1  \n",
       "3               1         0  \n",
       "15              1         0  \n",
       "19              0         1  \n",
       "24              0         1  \n",
       "...           ...       ...  \n",
       "6362615         1         0  \n",
       "6362616         0         1  \n",
       "6362617         1         0  \n",
       "6362618         0         1  \n",
       "6362619         1         0  \n",
       "\n",
       "[2770409 rows x 12 columns]"
      ]
     },
     "execution_count": 21,
     "metadata": {},
     "output_type": "execute_result"
    }
   ],
   "source": [
    "data = pd.concat([data,dummies],axis=1)\n",
    "data = data.drop(['type'],axis = 1)\n",
    "data"
   ]
  },
  {
   "cell_type": "markdown",
   "metadata": {},
   "source": [
    "### Feature: oldbalanceOrig & oldbalanceDest"
   ]
  },
  {
   "cell_type": "code",
   "execution_count": 22,
   "metadata": {},
   "outputs": [
    {
     "name": "stdout",
     "output_type": "stream",
     "text": [
      "Wall time: 1min 6s\n"
     ]
    },
    {
     "data": {
      "text/plain": [
       "<matplotlib.axes._subplots.AxesSubplot at 0x1948aeb0ac8>"
      ]
     },
     "execution_count": 22,
     "metadata": {},
     "output_type": "execute_result"
    },
    {
     "data": {
      "image/png": "[encoded data removed]",
      "text/plain": [
       "<Figure size 432x288 with 1 Axes>"
      ]
     },
     "metadata": {
      "needs_background": "light"
     },
     "output_type": "display_data"
    }
   ],
   "source": [
    "%%time\n",
    "sns.barplot('isFraud','oldbalanceOrg',data=data)"
   ]
  },
  {
   "cell_type": "code",
   "execution_count": 23,
   "metadata": {},
   "outputs": [
    {
     "name": "stdout",
     "output_type": "stream",
     "text": [
      "Wall time: 1min 6s\n"
     ]
    },
    {
     "data": {
      "text/plain": [
       "<matplotlib.axes._subplots.AxesSubplot at 0x1948ae369c8>"
      ]
     },
     "execution_count": 23,
     "metadata": {},
     "output_type": "execute_result"
    },
    {
     "data": {
      "image/png": "[encoded data removed]",
      "text/plain": [
       "<Figure size 432x288 with 1 Axes>"
      ]
     },
     "metadata": {
      "needs_background": "light"
     },
     "output_type": "display_data"
    }
   ],
   "source": [
    "%%time\n",
    "sns.barplot('isFraud','oldbalanceDest',hue='isFraud',data=data)"
   ]
  },
  {
   "cell_type": "markdown",
   "metadata": {},
   "source": [
    "### Observation:\n",
    "        in the distribution of legit and fraudulent records in oldbalanceOrig and oldbalanceDest.The bar plot indicates fraudulent transactions were more likely to appear in accounts with higher oldbalanceOrig, which means accounts with higher initial balance are more tend to be attacked. As for the bar plot, it implies that accounts with lower initial balance are more likely to be the receivers involved in a fraud. "
   ]
  },
  {
   "cell_type": "markdown",
   "metadata": {},
   "source": [
    "### Feature: nameOrig & nameDest"
   ]
  },
  {
   "cell_type": "code",
   "execution_count": 24,
   "metadata": {},
   "outputs": [
    {
     "name": "stdout",
     "output_type": "stream",
     "text": [
      "2          27\n",
      "3          31\n",
      "15         28\n",
      "19         31\n",
      "24         51\n",
      "           ..\n",
      "6362615     1\n",
      "6362616     1\n",
      "6362617     3\n",
      "6362618     1\n",
      "6362619    23\n",
      "Name: freq_nameDest, Length: 2770409, dtype: int64\n",
      "\n",
      "\n",
      "2          1\n",
      "3          1\n",
      "15         1\n",
      "19         1\n",
      "24         1\n",
      "          ..\n",
      "6362615    1\n",
      "6362616    1\n",
      "6362617    1\n",
      "6362618    1\n",
      "6362619    1\n",
      "Name: freq_nameOrig, Length: 2770409, dtype: int64\n"
     ]
    }
   ],
   "source": [
    "data['freq_nameDest'] = data.groupby('nameDest')['isFraud'].transform('count')\n",
    "data['freq_nameOrig'] = data.groupby('nameOrig')['isFraud'].transform('count')\n",
    "print(data['freq_nameDest'])\n",
    "print('\\n')\n",
    "print(data['freq_nameOrig'])"
   ]
  },
  {
   "cell_type": "markdown",
   "metadata": {},
   "source": [
    "### Observation:\n",
    "\n",
    "nameOrig and nameDest are ID numbers for customers or merchants. Theoretically, if they have\n",
    "any relation with isFraud, it could be the frequency of the occurrence of ID numbers — IDs that\n",
    "show up frequently may have higher possibility of participating in frauds. To figure out whether\n",
    "the hypothesis is correct or not, all the IDs which appeared more than once were picked out and\n",
    "listed with their corresponding account status.\n",
    "\n",
    "Observing the two tables we just created, the frequency of nameOrig or nameDest doesn’t\n",
    "appear to have a significant relationship with account status. For example, all the receiver IDs\n",
    "appeared over 100 times had never joined in a single fraud, yet some ID numbers that only\n",
    "showed up for a few times were proved to participated in frauds. The occurrences of ID numbers\n",
    "were random and have neither a positive nor a negative relation with isFraud, thus nameOrig or\n",
    "nameDest are omitted from later analysis."
   ]
  },
  {
   "cell_type": "markdown",
   "metadata": {},
   "source": [
    "### Feature:isFlaggedFraud"
   ]
  },
  {
   "cell_type": "code",
   "execution_count": 25,
   "metadata": {},
   "outputs": [
    {
     "name": "stdout",
     "output_type": "stream",
     "text": [
      "isFlaggedFraud\n",
      "0    2770393\n",
      "1         16\n",
      "Name: amount, dtype: int64\n"
     ]
    }
   ],
   "source": [
    "print(data.groupby('isFlaggedFraud')['amount'].count())"
   ]
  },
  {
   "cell_type": "markdown",
   "metadata": {},
   "source": [
    "### Observation:\n",
    "The definition of isFlaggedFraud seems to be inconsistent with the data. As stated in the\n",
    "description of dataset, in order to control large transfers from one account to another, the system\n",
    "will mark the single transactions with more than 200,000 transferred as isFlaggedFraud =1.\n",
    "Nonetheless, isFlaggedFraud can remain 0 despite the condition was met, and there were only\n",
    "16 “isFlaggedFraud = 1” out of over 6 million entries. "
   ]
  },
  {
   "cell_type": "code",
   "execution_count": 26,
   "metadata": {},
   "outputs": [
    {
     "data": {
      "image/png": "[encoded data removed]",
      "text/plain": [
       "<Figure size 864x648 with 2 Axes>"
      ]
     },
     "metadata": {
      "needs_background": "light"
     },
     "output_type": "display_data"
    }
   ],
   "source": [
    "# Correlation matrix\n",
    "corrmat = data.corr()\n",
    "fig = plt.figure(figsize = (12, 9))\n",
    "\n",
    "sns.heatmap(corrmat, vmax = .8, square = True)\n",
    "plt.show()"
   ]
  },
  {
   "cell_type": "markdown",
   "metadata": {},
   "source": [
    "In Correlation matrix we can observe that isFlaggedFraud don't have any correlation with anyy other features,so we can remove this feature because it won't help us in prediction."
   ]
  },
  {
   "cell_type": "code",
   "execution_count": 27,
   "metadata": {},
   "outputs": [],
   "source": [
    "# Defining inaccuracies in originator and recipient balances\n",
    "data['origBalance_inacc'] = (data['oldbalanceOrg'] - data['amount']) -data['newbalanceOrig']\n",
    "data['destBalance_inacc'] = (data['oldbalanceDest'] + data['amount']) -data['newbalanceDest']"
   ]
  },
  {
   "cell_type": "code",
   "execution_count": 28,
   "metadata": {},
   "outputs": [
    {
     "data": {
      "text/plain": [
       "2               0.00\n",
       "3               0.00\n",
       "15        -213808.94\n",
       "19        -214605.30\n",
       "24        -300850.89\n",
       "             ...    \n",
       "6362615         0.00\n",
       "6362616         0.00\n",
       "6362617         0.00\n",
       "6362618         0.00\n",
       "6362619         0.00\n",
       "Name: origBalance_inacc, Length: 2770409, dtype: float64"
      ]
     },
     "execution_count": 28,
     "metadata": {},
     "output_type": "execute_result"
    }
   ],
   "source": [
    "data['origBalance_inacc']"
   ]
  },
  {
   "cell_type": "markdown",
   "metadata": {},
   "source": [
    "## Data Cleaning and transformtion"
   ]
  },
  {
   "cell_type": "code",
   "execution_count": 29,
   "metadata": {},
   "outputs": [
    {
     "data": {
      "text/html": [
       "<div>\n",
       "<style scoped>\n",
       "    .dataframe tbody tr th:only-of-type {\n",
       "        vertical-align: middle;\n",
       "    }\n",
       "\n",
       "    .dataframe tbody tr th {\n",
       "        vertical-align: top;\n",
       "    }\n",
       "\n",
       "    .dataframe thead th {\n",
       "        text-align: right;\n",
       "    }\n",
       "</style>\n",
       "<table border=\"1\" class=\"dataframe\">\n",
       "  <thead>\n",
       "    <tr style=\"text-align: right;\">\n",
       "      <th></th>\n",
       "      <th>step</th>\n",
       "      <th>amount</th>\n",
       "      <th>nameOrig</th>\n",
       "      <th>oldbalanceOrg</th>\n",
       "      <th>newbalanceOrig</th>\n",
       "      <th>nameDest</th>\n",
       "      <th>oldbalanceDest</th>\n",
       "      <th>newbalanceDest</th>\n",
       "      <th>isFraud</th>\n",
       "      <th>isFlaggedFraud</th>\n",
       "      <th>CASH_OUT</th>\n",
       "      <th>TRANSFER</th>\n",
       "      <th>freq_nameDest</th>\n",
       "      <th>freq_nameOrig</th>\n",
       "      <th>origBalance_inacc</th>\n",
       "      <th>destBalance_inacc</th>\n",
       "    </tr>\n",
       "  </thead>\n",
       "  <tbody>\n",
       "    <tr>\n",
       "      <td>2</td>\n",
       "      <td>1</td>\n",
       "      <td>181.00</td>\n",
       "      <td>C1305486145</td>\n",
       "      <td>181.00</td>\n",
       "      <td>0.0</td>\n",
       "      <td>C553264065</td>\n",
       "      <td>0.00</td>\n",
       "      <td>0.00</td>\n",
       "      <td>1</td>\n",
       "      <td>0</td>\n",
       "      <td>0</td>\n",
       "      <td>1</td>\n",
       "      <td>27</td>\n",
       "      <td>1</td>\n",
       "      <td>0.00</td>\n",
       "      <td>1.810000e+02</td>\n",
       "    </tr>\n",
       "    <tr>\n",
       "      <td>3</td>\n",
       "      <td>1</td>\n",
       "      <td>181.00</td>\n",
       "      <td>C840083671</td>\n",
       "      <td>181.00</td>\n",
       "      <td>0.0</td>\n",
       "      <td>C38997010</td>\n",
       "      <td>21182.00</td>\n",
       "      <td>0.00</td>\n",
       "      <td>1</td>\n",
       "      <td>0</td>\n",
       "      <td>1</td>\n",
       "      <td>0</td>\n",
       "      <td>31</td>\n",
       "      <td>1</td>\n",
       "      <td>0.00</td>\n",
       "      <td>2.136300e+04</td>\n",
       "    </tr>\n",
       "    <tr>\n",
       "      <td>15</td>\n",
       "      <td>1</td>\n",
       "      <td>229133.94</td>\n",
       "      <td>C905080434</td>\n",
       "      <td>15325.00</td>\n",
       "      <td>0.0</td>\n",
       "      <td>C476402209</td>\n",
       "      <td>5083.00</td>\n",
       "      <td>51513.44</td>\n",
       "      <td>0</td>\n",
       "      <td>0</td>\n",
       "      <td>1</td>\n",
       "      <td>0</td>\n",
       "      <td>28</td>\n",
       "      <td>1</td>\n",
       "      <td>-213808.94</td>\n",
       "      <td>1.827035e+05</td>\n",
       "    </tr>\n",
       "    <tr>\n",
       "      <td>19</td>\n",
       "      <td>1</td>\n",
       "      <td>215310.30</td>\n",
       "      <td>C1670993182</td>\n",
       "      <td>705.00</td>\n",
       "      <td>0.0</td>\n",
       "      <td>C1100439041</td>\n",
       "      <td>22425.00</td>\n",
       "      <td>0.00</td>\n",
       "      <td>0</td>\n",
       "      <td>0</td>\n",
       "      <td>0</td>\n",
       "      <td>1</td>\n",
       "      <td>31</td>\n",
       "      <td>1</td>\n",
       "      <td>-214605.30</td>\n",
       "      <td>2.377353e+05</td>\n",
       "    </tr>\n",
       "    <tr>\n",
       "      <td>24</td>\n",
       "      <td>1</td>\n",
       "      <td>311685.89</td>\n",
       "      <td>C1984094095</td>\n",
       "      <td>10835.00</td>\n",
       "      <td>0.0</td>\n",
       "      <td>C932583850</td>\n",
       "      <td>6267.00</td>\n",
       "      <td>2719172.89</td>\n",
       "      <td>0</td>\n",
       "      <td>0</td>\n",
       "      <td>0</td>\n",
       "      <td>1</td>\n",
       "      <td>51</td>\n",
       "      <td>1</td>\n",
       "      <td>-300850.89</td>\n",
       "      <td>-2.401220e+06</td>\n",
       "    </tr>\n",
       "    <tr>\n",
       "      <td>...</td>\n",
       "      <td>...</td>\n",
       "      <td>...</td>\n",
       "      <td>...</td>\n",
       "      <td>...</td>\n",
       "      <td>...</td>\n",
       "      <td>...</td>\n",
       "      <td>...</td>\n",
       "      <td>...</td>\n",
       "      <td>...</td>\n",
       "      <td>...</td>\n",
       "      <td>...</td>\n",
       "      <td>...</td>\n",
       "      <td>...</td>\n",
       "      <td>...</td>\n",
       "      <td>...</td>\n",
       "      <td>...</td>\n",
       "    </tr>\n",
       "    <tr>\n",
       "      <td>6362615</td>\n",
       "      <td>743</td>\n",
       "      <td>339682.13</td>\n",
       "      <td>C786484425</td>\n",
       "      <td>339682.13</td>\n",
       "      <td>0.0</td>\n",
       "      <td>C776919290</td>\n",
       "      <td>0.00</td>\n",
       "      <td>339682.13</td>\n",
       "      <td>1</td>\n",
       "      <td>0</td>\n",
       "      <td>1</td>\n",
       "      <td>0</td>\n",
       "      <td>1</td>\n",
       "      <td>1</td>\n",
       "      <td>0.00</td>\n",
       "      <td>0.000000e+00</td>\n",
       "    </tr>\n",
       "    <tr>\n",
       "      <td>6362616</td>\n",
       "      <td>743</td>\n",
       "      <td>6311409.28</td>\n",
       "      <td>C1529008245</td>\n",
       "      <td>6311409.28</td>\n",
       "      <td>0.0</td>\n",
       "      <td>C1881841831</td>\n",
       "      <td>0.00</td>\n",
       "      <td>0.00</td>\n",
       "      <td>1</td>\n",
       "      <td>0</td>\n",
       "      <td>0</td>\n",
       "      <td>1</td>\n",
       "      <td>1</td>\n",
       "      <td>1</td>\n",
       "      <td>0.00</td>\n",
       "      <td>6.311409e+06</td>\n",
       "    </tr>\n",
       "    <tr>\n",
       "      <td>6362617</td>\n",
       "      <td>743</td>\n",
       "      <td>6311409.28</td>\n",
       "      <td>C1162922333</td>\n",
       "      <td>6311409.28</td>\n",
       "      <td>0.0</td>\n",
       "      <td>C1365125890</td>\n",
       "      <td>68488.84</td>\n",
       "      <td>6379898.11</td>\n",
       "      <td>1</td>\n",
       "      <td>0</td>\n",
       "      <td>1</td>\n",
       "      <td>0</td>\n",
       "      <td>3</td>\n",
       "      <td>1</td>\n",
       "      <td>0.00</td>\n",
       "      <td>1.000000e-02</td>\n",
       "    </tr>\n",
       "    <tr>\n",
       "      <td>6362618</td>\n",
       "      <td>743</td>\n",
       "      <td>850002.52</td>\n",
       "      <td>C1685995037</td>\n",
       "      <td>850002.52</td>\n",
       "      <td>0.0</td>\n",
       "      <td>C2080388513</td>\n",
       "      <td>0.00</td>\n",
       "      <td>0.00</td>\n",
       "      <td>1</td>\n",
       "      <td>0</td>\n",
       "      <td>0</td>\n",
       "      <td>1</td>\n",
       "      <td>1</td>\n",
       "      <td>1</td>\n",
       "      <td>0.00</td>\n",
       "      <td>8.500025e+05</td>\n",
       "    </tr>\n",
       "    <tr>\n",
       "      <td>6362619</td>\n",
       "      <td>743</td>\n",
       "      <td>850002.52</td>\n",
       "      <td>C1280323807</td>\n",
       "      <td>850002.52</td>\n",
       "      <td>0.0</td>\n",
       "      <td>C873221189</td>\n",
       "      <td>6510099.11</td>\n",
       "      <td>7360101.63</td>\n",
       "      <td>1</td>\n",
       "      <td>0</td>\n",
       "      <td>1</td>\n",
       "      <td>0</td>\n",
       "      <td>23</td>\n",
       "      <td>1</td>\n",
       "      <td>0.00</td>\n",
       "      <td>9.313226e-10</td>\n",
       "    </tr>\n",
       "  </tbody>\n",
       "</table>\n",
       "<p>2770409 rows × 16 columns</p>\n",
       "</div>"
      ],
      "text/plain": [
       "         step      amount     nameOrig  oldbalanceOrg  newbalanceOrig  \\\n",
       "2           1      181.00  C1305486145         181.00             0.0   \n",
       "3           1      181.00   C840083671         181.00             0.0   \n",
       "15          1   229133.94   C905080434       15325.00             0.0   \n",
       "19          1   215310.30  C1670993182         705.00             0.0   \n",
       "24          1   311685.89  C1984094095       10835.00             0.0   \n",
       "...       ...         ...          ...            ...             ...   \n",
       "6362615   743   339682.13   C786484425      339682.13             0.0   \n",
       "6362616   743  6311409.28  C1529008245     6311409.28             0.0   \n",
       "6362617   743  6311409.28  C1162922333     6311409.28             0.0   \n",
       "6362618   743   850002.52  C1685995037      850002.52             0.0   \n",
       "6362619   743   850002.52  C1280323807      850002.52             0.0   \n",
       "\n",
       "            nameDest  oldbalanceDest  newbalanceDest  isFraud  isFlaggedFraud  \\\n",
       "2         C553264065            0.00            0.00        1               0   \n",
       "3          C38997010        21182.00            0.00        1               0   \n",
       "15        C476402209         5083.00        51513.44        0               0   \n",
       "19       C1100439041        22425.00            0.00        0               0   \n",
       "24        C932583850         6267.00      2719172.89        0               0   \n",
       "...              ...             ...             ...      ...             ...   \n",
       "6362615   C776919290            0.00       339682.13        1               0   \n",
       "6362616  C1881841831            0.00            0.00        1               0   \n",
       "6362617  C1365125890        68488.84      6379898.11        1               0   \n",
       "6362618  C2080388513            0.00            0.00        1               0   \n",
       "6362619   C873221189      6510099.11      7360101.63        1               0   \n",
       "\n",
       "         CASH_OUT  TRANSFER  freq_nameDest  freq_nameOrig  origBalance_inacc  \\\n",
       "2               0         1             27              1               0.00   \n",
       "3               1         0             31              1               0.00   \n",
       "15              1         0             28              1         -213808.94   \n",
       "19              0         1             31              1         -214605.30   \n",
       "24              0         1             51              1         -300850.89   \n",
       "...           ...       ...            ...            ...                ...   \n",
       "6362615         1         0              1              1               0.00   \n",
       "6362616         0         1              1              1               0.00   \n",
       "6362617         1         0              3              1               0.00   \n",
       "6362618         0         1              1              1               0.00   \n",
       "6362619         1         0             23              1               0.00   \n",
       "\n",
       "         destBalance_inacc  \n",
       "2             1.810000e+02  \n",
       "3             2.136300e+04  \n",
       "15            1.827035e+05  \n",
       "19            2.377353e+05  \n",
       "24           -2.401220e+06  \n",
       "...                    ...  \n",
       "6362615       0.000000e+00  \n",
       "6362616       6.311409e+06  \n",
       "6362617       1.000000e-02  \n",
       "6362618       8.500025e+05  \n",
       "6362619       9.313226e-10  \n",
       "\n",
       "[2770409 rows x 16 columns]"
      ]
     },
     "execution_count": 29,
     "metadata": {},
     "output_type": "execute_result"
    }
   ],
   "source": [
    "data"
   ]
  },
  {
   "cell_type": "code",
   "execution_count": 30,
   "metadata": {},
   "outputs": [
    {
     "data": {
      "text/html": [
       "<div>\n",
       "<style scoped>\n",
       "    .dataframe tbody tr th:only-of-type {\n",
       "        vertical-align: middle;\n",
       "    }\n",
       "\n",
       "    .dataframe tbody tr th {\n",
       "        vertical-align: top;\n",
       "    }\n",
       "\n",
       "    .dataframe thead th {\n",
       "        text-align: right;\n",
       "    }\n",
       "</style>\n",
       "<table border=\"1\" class=\"dataframe\">\n",
       "  <thead>\n",
       "    <tr style=\"text-align: right;\">\n",
       "      <th></th>\n",
       "      <th>step</th>\n",
       "      <th>amount</th>\n",
       "      <th>oldbalanceOrg</th>\n",
       "      <th>newbalanceOrig</th>\n",
       "      <th>oldbalanceDest</th>\n",
       "      <th>newbalanceDest</th>\n",
       "      <th>isFraud</th>\n",
       "      <th>CASH_OUT</th>\n",
       "      <th>TRANSFER</th>\n",
       "      <th>freq_nameDest</th>\n",
       "      <th>freq_nameOrig</th>\n",
       "      <th>origBalance_inacc</th>\n",
       "      <th>destBalance_inacc</th>\n",
       "    </tr>\n",
       "  </thead>\n",
       "  <tbody>\n",
       "    <tr>\n",
       "      <td>2</td>\n",
       "      <td>1</td>\n",
       "      <td>181.00</td>\n",
       "      <td>181.00</td>\n",
       "      <td>0.0</td>\n",
       "      <td>0.00</td>\n",
       "      <td>0.00</td>\n",
       "      <td>1</td>\n",
       "      <td>0</td>\n",
       "      <td>1</td>\n",
       "      <td>27</td>\n",
       "      <td>1</td>\n",
       "      <td>0.00</td>\n",
       "      <td>1.810000e+02</td>\n",
       "    </tr>\n",
       "    <tr>\n",
       "      <td>3</td>\n",
       "      <td>1</td>\n",
       "      <td>181.00</td>\n",
       "      <td>181.00</td>\n",
       "      <td>0.0</td>\n",
       "      <td>21182.00</td>\n",
       "      <td>0.00</td>\n",
       "      <td>1</td>\n",
       "      <td>1</td>\n",
       "      <td>0</td>\n",
       "      <td>31</td>\n",
       "      <td>1</td>\n",
       "      <td>0.00</td>\n",
       "      <td>2.136300e+04</td>\n",
       "    </tr>\n",
       "    <tr>\n",
       "      <td>15</td>\n",
       "      <td>1</td>\n",
       "      <td>229133.94</td>\n",
       "      <td>15325.00</td>\n",
       "      <td>0.0</td>\n",
       "      <td>5083.00</td>\n",
       "      <td>51513.44</td>\n",
       "      <td>0</td>\n",
       "      <td>1</td>\n",
       "      <td>0</td>\n",
       "      <td>28</td>\n",
       "      <td>1</td>\n",
       "      <td>-213808.94</td>\n",
       "      <td>1.827035e+05</td>\n",
       "    </tr>\n",
       "    <tr>\n",
       "      <td>19</td>\n",
       "      <td>1</td>\n",
       "      <td>215310.30</td>\n",
       "      <td>705.00</td>\n",
       "      <td>0.0</td>\n",
       "      <td>22425.00</td>\n",
       "      <td>0.00</td>\n",
       "      <td>0</td>\n",
       "      <td>0</td>\n",
       "      <td>1</td>\n",
       "      <td>31</td>\n",
       "      <td>1</td>\n",
       "      <td>-214605.30</td>\n",
       "      <td>2.377353e+05</td>\n",
       "    </tr>\n",
       "    <tr>\n",
       "      <td>24</td>\n",
       "      <td>1</td>\n",
       "      <td>311685.89</td>\n",
       "      <td>10835.00</td>\n",
       "      <td>0.0</td>\n",
       "      <td>6267.00</td>\n",
       "      <td>2719172.89</td>\n",
       "      <td>0</td>\n",
       "      <td>0</td>\n",
       "      <td>1</td>\n",
       "      <td>51</td>\n",
       "      <td>1</td>\n",
       "      <td>-300850.89</td>\n",
       "      <td>-2.401220e+06</td>\n",
       "    </tr>\n",
       "    <tr>\n",
       "      <td>...</td>\n",
       "      <td>...</td>\n",
       "      <td>...</td>\n",
       "      <td>...</td>\n",
       "      <td>...</td>\n",
       "      <td>...</td>\n",
       "      <td>...</td>\n",
       "      <td>...</td>\n",
       "      <td>...</td>\n",
       "      <td>...</td>\n",
       "      <td>...</td>\n",
       "      <td>...</td>\n",
       "      <td>...</td>\n",
       "      <td>...</td>\n",
       "    </tr>\n",
       "    <tr>\n",
       "      <td>6362615</td>\n",
       "      <td>743</td>\n",
       "      <td>339682.13</td>\n",
       "      <td>339682.13</td>\n",
       "      <td>0.0</td>\n",
       "      <td>0.00</td>\n",
       "      <td>339682.13</td>\n",
       "      <td>1</td>\n",
       "      <td>1</td>\n",
       "      <td>0</td>\n",
       "      <td>1</td>\n",
       "      <td>1</td>\n",
       "      <td>0.00</td>\n",
       "      <td>0.000000e+00</td>\n",
       "    </tr>\n",
       "    <tr>\n",
       "      <td>6362616</td>\n",
       "      <td>743</td>\n",
       "      <td>6311409.28</td>\n",
       "      <td>6311409.28</td>\n",
       "      <td>0.0</td>\n",
       "      <td>0.00</td>\n",
       "      <td>0.00</td>\n",
       "      <td>1</td>\n",
       "      <td>0</td>\n",
       "      <td>1</td>\n",
       "      <td>1</td>\n",
       "      <td>1</td>\n",
       "      <td>0.00</td>\n",
       "      <td>6.311409e+06</td>\n",
       "    </tr>\n",
       "    <tr>\n",
       "      <td>6362617</td>\n",
       "      <td>743</td>\n",
       "      <td>6311409.28</td>\n",
       "      <td>6311409.28</td>\n",
       "      <td>0.0</td>\n",
       "      <td>68488.84</td>\n",
       "      <td>6379898.11</td>\n",
       "      <td>1</td>\n",
       "      <td>1</td>\n",
       "      <td>0</td>\n",
       "      <td>3</td>\n",
       "      <td>1</td>\n",
       "      <td>0.00</td>\n",
       "      <td>1.000000e-02</td>\n",
       "    </tr>\n",
       "    <tr>\n",
       "      <td>6362618</td>\n",
       "      <td>743</td>\n",
       "      <td>850002.52</td>\n",
       "      <td>850002.52</td>\n",
       "      <td>0.0</td>\n",
       "      <td>0.00</td>\n",
       "      <td>0.00</td>\n",
       "      <td>1</td>\n",
       "      <td>0</td>\n",
       "      <td>1</td>\n",
       "      <td>1</td>\n",
       "      <td>1</td>\n",
       "      <td>0.00</td>\n",
       "      <td>8.500025e+05</td>\n",
       "    </tr>\n",
       "    <tr>\n",
       "      <td>6362619</td>\n",
       "      <td>743</td>\n",
       "      <td>850002.52</td>\n",
       "      <td>850002.52</td>\n",
       "      <td>0.0</td>\n",
       "      <td>6510099.11</td>\n",
       "      <td>7360101.63</td>\n",
       "      <td>1</td>\n",
       "      <td>1</td>\n",
       "      <td>0</td>\n",
       "      <td>23</td>\n",
       "      <td>1</td>\n",
       "      <td>0.00</td>\n",
       "      <td>9.313226e-10</td>\n",
       "    </tr>\n",
       "  </tbody>\n",
       "</table>\n",
       "<p>2770409 rows × 13 columns</p>\n",
       "</div>"
      ],
      "text/plain": [
       "         step      amount  oldbalanceOrg  newbalanceOrig  oldbalanceDest  \\\n",
       "2           1      181.00         181.00             0.0            0.00   \n",
       "3           1      181.00         181.00             0.0        21182.00   \n",
       "15          1   229133.94       15325.00             0.0         5083.00   \n",
       "19          1   215310.30         705.00             0.0        22425.00   \n",
       "24          1   311685.89       10835.00             0.0         6267.00   \n",
       "...       ...         ...            ...             ...             ...   \n",
       "6362615   743   339682.13      339682.13             0.0            0.00   \n",
       "6362616   743  6311409.28     6311409.28             0.0            0.00   \n",
       "6362617   743  6311409.28     6311409.28             0.0        68488.84   \n",
       "6362618   743   850002.52      850002.52             0.0            0.00   \n",
       "6362619   743   850002.52      850002.52             0.0      6510099.11   \n",
       "\n",
       "         newbalanceDest  isFraud  CASH_OUT  TRANSFER  freq_nameDest  \\\n",
       "2                  0.00        1         0         1             27   \n",
       "3                  0.00        1         1         0             31   \n",
       "15             51513.44        0         1         0             28   \n",
       "19                 0.00        0         0         1             31   \n",
       "24           2719172.89        0         0         1             51   \n",
       "...                 ...      ...       ...       ...            ...   \n",
       "6362615       339682.13        1         1         0              1   \n",
       "6362616            0.00        1         0         1              1   \n",
       "6362617      6379898.11        1         1         0              3   \n",
       "6362618            0.00        1         0         1              1   \n",
       "6362619      7360101.63        1         1         0             23   \n",
       "\n",
       "         freq_nameOrig  origBalance_inacc  destBalance_inacc  \n",
       "2                    1               0.00       1.810000e+02  \n",
       "3                    1               0.00       2.136300e+04  \n",
       "15                   1         -213808.94       1.827035e+05  \n",
       "19                   1         -214605.30       2.377353e+05  \n",
       "24                   1         -300850.89      -2.401220e+06  \n",
       "...                ...                ...                ...  \n",
       "6362615              1               0.00       0.000000e+00  \n",
       "6362616              1               0.00       6.311409e+06  \n",
       "6362617              1               0.00       1.000000e-02  \n",
       "6362618              1               0.00       8.500025e+05  \n",
       "6362619              1               0.00       9.313226e-10  \n",
       "\n",
       "[2770409 rows x 13 columns]"
      ]
     },
     "execution_count": 30,
     "metadata": {},
     "output_type": "execute_result"
    }
   ],
   "source": [
    "data = data.drop(['isFlaggedFraud','nameOrig','nameDest','isFlaggedFraud'],axis = 1)\n",
    "data"
   ]
  },
  {
   "cell_type": "code",
   "execution_count": 31,
   "metadata": {},
   "outputs": [
    {
     "name": "stdout",
     "output_type": "stream",
     "text": [
      "Number of transactions where the transaction amount is negative: 0\n"
     ]
    }
   ],
   "source": [
    "# Check that there are no negative amounts\n",
    "print('Number of transactions where the transaction amount is negative: ' +\n",
    "str(sum(data['amount'] < 0)))"
   ]
  },
  {
   "cell_type": "code",
   "execution_count": 32,
   "metadata": {},
   "outputs": [
    {
     "name": "stdout",
     "output_type": "stream",
     "text": [
      "Number of transactions where the transaction amount is zero: 16\n"
     ]
    }
   ],
   "source": [
    "# Check instances where transacted amount is 0\n",
    "print('Number of transactions where the transaction amount is zero: ' +\n",
    "str(sum(data['amount'] == 0)))"
   ]
  },
  {
   "cell_type": "code",
   "execution_count": 33,
   "metadata": {},
   "outputs": [],
   "source": [
    "# Remove 0 amount values\n",
    "data = data.loc[data['amount'] > 0,:]"
   ]
  },
  {
   "cell_type": "code",
   "execution_count": 34,
   "metadata": {},
   "outputs": [
    {
     "data": {
      "text/plain": [
       "TRANSFER\n",
       "0    2237484\n",
       "1     532909\n",
       "Name: isFraud, dtype: int64"
      ]
     },
     "execution_count": 34,
     "metadata": {},
     "output_type": "execute_result"
    }
   ],
   "source": [
    "data.groupby('TRANSFER')['isFraud'].count()"
   ]
  },
  {
   "cell_type": "code",
   "execution_count": 35,
   "metadata": {},
   "outputs": [
    {
     "data": {
      "image/png": "[encoded data removed]",
      "text/plain": [
       "<Figure size 864x720 with 2 Axes>"
      ]
     },
     "metadata": {
      "needs_background": "light"
     },
     "output_type": "display_data"
    }
   ],
   "source": [
    "plt.figure(figsize=(12,10)) \n",
    "p=sns.heatmap(data.corr(), annot=True,cmap ='RdYlGn')  "
   ]
  },
  {
   "cell_type": "markdown",
   "metadata": {},
   "source": [
    "## Training Models"
   ]
  },
  {
   "cell_type": "code",
   "execution_count": 36,
   "metadata": {},
   "outputs": [
    {
     "data": {
      "text/html": [
       "<div>\n",
       "<style scoped>\n",
       "    .dataframe tbody tr th:only-of-type {\n",
       "        vertical-align: middle;\n",
       "    }\n",
       "\n",
       "    .dataframe tbody tr th {\n",
       "        vertical-align: top;\n",
       "    }\n",
       "\n",
       "    .dataframe thead th {\n",
       "        text-align: right;\n",
       "    }\n",
       "</style>\n",
       "<table border=\"1\" class=\"dataframe\">\n",
       "  <thead>\n",
       "    <tr style=\"text-align: right;\">\n",
       "      <th></th>\n",
       "      <th>step</th>\n",
       "      <th>amount</th>\n",
       "      <th>oldbalanceOrg</th>\n",
       "      <th>newbalanceOrig</th>\n",
       "      <th>oldbalanceDest</th>\n",
       "      <th>newbalanceDest</th>\n",
       "      <th>CASH_OUT</th>\n",
       "      <th>TRANSFER</th>\n",
       "      <th>freq_nameDest</th>\n",
       "      <th>freq_nameOrig</th>\n",
       "      <th>origBalance_inacc</th>\n",
       "      <th>destBalance_inacc</th>\n",
       "    </tr>\n",
       "    <tr>\n",
       "      <th>isFraud</th>\n",
       "      <th></th>\n",
       "      <th></th>\n",
       "      <th></th>\n",
       "      <th></th>\n",
       "      <th></th>\n",
       "      <th></th>\n",
       "      <th></th>\n",
       "      <th></th>\n",
       "      <th></th>\n",
       "      <th></th>\n",
       "      <th></th>\n",
       "      <th></th>\n",
       "    </tr>\n",
       "  </thead>\n",
       "  <tbody>\n",
       "    <tr>\n",
       "      <td>0</td>\n",
       "      <td>2762196</td>\n",
       "      <td>2762196</td>\n",
       "      <td>2762196</td>\n",
       "      <td>2762196</td>\n",
       "      <td>2762196</td>\n",
       "      <td>2762196</td>\n",
       "      <td>2762196</td>\n",
       "      <td>2762196</td>\n",
       "      <td>2762196</td>\n",
       "      <td>2762196</td>\n",
       "      <td>2762196</td>\n",
       "      <td>2762196</td>\n",
       "    </tr>\n",
       "    <tr>\n",
       "      <td>1</td>\n",
       "      <td>8197</td>\n",
       "      <td>8197</td>\n",
       "      <td>8197</td>\n",
       "      <td>8197</td>\n",
       "      <td>8197</td>\n",
       "      <td>8197</td>\n",
       "      <td>8197</td>\n",
       "      <td>8197</td>\n",
       "      <td>8197</td>\n",
       "      <td>8197</td>\n",
       "      <td>8197</td>\n",
       "      <td>8197</td>\n",
       "    </tr>\n",
       "  </tbody>\n",
       "</table>\n",
       "</div>"
      ],
      "text/plain": [
       "            step   amount  oldbalanceOrg  newbalanceOrig  oldbalanceDest  \\\n",
       "isFraud                                                                    \n",
       "0        2762196  2762196        2762196         2762196         2762196   \n",
       "1           8197     8197           8197            8197            8197   \n",
       "\n",
       "         newbalanceDest  CASH_OUT  TRANSFER  freq_nameDest  freq_nameOrig  \\\n",
       "isFraud                                                                     \n",
       "0               2762196   2762196   2762196        2762196        2762196   \n",
       "1                  8197      8197      8197           8197           8197   \n",
       "\n",
       "         origBalance_inacc  destBalance_inacc  \n",
       "isFraud                                        \n",
       "0                  2762196            2762196  \n",
       "1                     8197               8197  "
      ]
     },
     "execution_count": 36,
     "metadata": {},
     "output_type": "execute_result"
    }
   ],
   "source": [
    "data.groupby('isFraud').count()"
   ]
  },
  {
   "cell_type": "code",
   "execution_count": 37,
   "metadata": {},
   "outputs": [
    {
     "name": "stdout",
     "output_type": "stream",
     "text": [
      "(2770393, 12)\n",
      "(2770393,)\n"
     ]
    }
   ],
   "source": [
    "#seperating the X and the Y from the dataset\n",
    "X=data.drop(['isFraud'], axis=1)\n",
    "Y=data[\"isFraud\"]\n",
    "print(X.shape)\n",
    "print(Y.shape)\n",
    "#getting just the values for the sake of processing (its a numpy array with no columns)\n",
    "X_data=X.values\n",
    "Y_data=Y.values"
   ]
  },
  {
   "cell_type": "code",
   "execution_count": 38,
   "metadata": {},
   "outputs": [
    {
     "name": "stderr",
     "output_type": "stream",
     "text": [
      "C:\\Users\\Acer\\Anaconda3\\lib\\site-packages\\sklearn\\utils\\deprecation.py:77: DeprecationWarning: Function _ratio_float is deprecated; Use a float for 'ratio' is deprecated from version 0.2. The support will be removed in 0.4. Use a dict, str, or a callable instead.\n",
      "  warnings.warn(msg, category=DeprecationWarning)\n"
     ]
    },
    {
     "data": {
      "text/plain": [
       "((4143294, 12), (4143294,))"
      ]
     },
     "execution_count": 38,
     "metadata": {},
     "output_type": "execute_result"
    }
   ],
   "source": [
    "from imblearn.over_sampling import RandomOverSampler\n",
    "os = RandomOverSampler(ratio=0.5)\n",
    "\n",
    "X_data,Y_data= os.fit_sample(X_data,Y_data)\n",
    "X_data.shape,Y_data.shape"
   ]
  },
  {
   "cell_type": "code",
   "execution_count": 39,
   "metadata": {},
   "outputs": [
    {
     "name": "stdout",
     "output_type": "stream",
     "text": [
      "(2216314, 12)\n",
      "(2216314,)\n",
      "(554079, 12)\n",
      "(554079,)\n"
     ]
    }
   ],
   "source": [
    "from sklearn.model_selection import train_test_split\n",
    "# Split the data into training and testing sets\n",
    "X_train, X_test, Y_train, Y_test = train_test_split(X_data, Y_data, test_size = 0.2, random_state = 42)\n",
    "print(X_train.shape)\n",
    "print(Y_train.shape)\n",
    "print(X_test.shape)\n",
    "print(Y_test.shape)"
   ]
  },
  {
   "cell_type": "code",
   "execution_count": 40,
   "metadata": {},
   "outputs": [],
   "source": [
    "# Feature Scaling So that data in all the columns are to the same scale\n",
    "from sklearn.preprocessing import StandardScaler\n",
    "sc = StandardScaler()\n",
    "X_train = sc.fit_transform(X_train)\n",
    "X_test = sc.transform(X_test)"
   ]
  },
  {
   "cell_type": "markdown",
   "metadata": {},
   "source": [
    "### Logestic Regression"
   ]
  },
  {
   "cell_type": "code",
   "execution_count": 41,
   "metadata": {},
   "outputs": [
    {
     "name": "stderr",
     "output_type": "stream",
     "text": [
      "C:\\Users\\Acer\\Anaconda3\\lib\\site-packages\\sklearn\\linear_model\\stochastic_gradient.py:128: FutureWarning: max_iter and tol parameters have been added in <class 'sklearn.linear_model.stochastic_gradient.SGDClassifier'> in 0.19. If both are left unset, they default to max_iter=5 and tol=None. If tol is not None, max_iter defaults to max_iter=1000. From 0.21, default max_iter will be 1000, and default tol will be 1e-3.\n",
      "  \"and default tol will be 1e-3.\" % type(self), FutureWarning)\n"
     ]
    }
   ],
   "source": [
    "clf = SGDClassifier(alpha=1,class_weight='balanced',penalty='l2',loss='log')\n",
    "clf.fit(X_train,Y_train)\n",
    "y_pred=clf.predict(X_test)"
   ]
  },
  {
   "cell_type": "code",
   "execution_count": 42,
   "metadata": {},
   "outputs": [
    {
     "name": "stdout",
     "output_type": "stream",
     "text": [
      "Classification Report \n",
      "              precision    recall  f1-score   support\n",
      "\n",
      "          0       1.00      0.92      0.96    552445\n",
      "          1       0.03      0.78      0.05      1634\n",
      "\n",
      "avg / total       1.00      0.92      0.95    554079\n",
      "\n",
      "\n",
      "\n",
      "Cofusion Metrics \n",
      " [[506680  45765]\n",
      " [   364   1270]]\n",
      "\n",
      "\n",
      "Macro F1score 0.5043251825128165\n",
      "Micro F1score 0.9167465289245758\n"
     ]
    }
   ],
   "source": [
    "\n",
    "classification = classification_report(Y_test, y_pred)\n",
    "confusion = confusion_matrix(Y_test, y_pred)\n",
    "macro_f1Score = f1_score(Y_test, y_pred,average='macro')\n",
    "micro_f1Score = f1_score(Y_test, y_pred,average='micro')\n",
    "\n",
    "print('Classification Report \\n',classification)\n",
    "print('\\n')\n",
    "print('Cofusion Metrics \\n',confusion)\n",
    "print('\\n')\n",
    "print('Macro F1score',macro_f1Score)\n",
    "print('Micro F1score',micro_f1Score)"
   ]
  },
  {
   "cell_type": "markdown",
   "metadata": {},
   "source": [
    "### Decision_tree"
   ]
  },
  {
   "cell_type": "code",
   "execution_count": 43,
   "metadata": {},
   "outputs": [],
   "source": [
    "from sklearn.tree import DecisionTreeClassifier\n",
    "# Create Decision Tree classifer object\n",
    "clf = DecisionTreeClassifier()\n",
    "\n",
    "# Train Decision Tree Classifer\n",
    "clf = clf.fit(X_train,Y_train)\n",
    "\n",
    "#Predict the response for test dataset\n",
    "y_pred = clf.predict(X_test)"
   ]
  },
  {
   "cell_type": "code",
   "execution_count": 44,
   "metadata": {},
   "outputs": [
    {
     "name": "stdout",
     "output_type": "stream",
     "text": [
      "Classification Report \n",
      "              precision    recall  f1-score   support\n",
      "\n",
      "          0       1.00      1.00      1.00    552445\n",
      "          1       1.00      0.99      1.00      1634\n",
      "\n",
      "avg / total       1.00      1.00      1.00    554079\n",
      "\n",
      "\n",
      "\n",
      "Cofusion Metrics \n",
      " [[552439      6]\n",
      " [    10   1624]]\n",
      "\n",
      "\n",
      "Macro F1score 0.9975417790942736\n",
      "Micro F1score 0.9999711232513775\n"
     ]
    }
   ],
   "source": [
    "from sklearn.metrics import f1_score\n",
    "classification = classification_report(Y_test, y_pred)\n",
    "confusion = confusion_matrix(Y_test, y_pred)\n",
    "macro_f1Score = f1_score(Y_test, y_pred,average='macro')\n",
    "micro_f1Score = f1_score(Y_test, y_pred,average='micro')\n",
    "\n",
    "print('Classification Report \\n',classification)\n",
    "print('\\n')\n",
    "print('Cofusion Metrics \\n',confusion)\n",
    "print('\\n')\n",
    "print('Macro F1score',macro_f1Score)\n",
    "print('Micro F1score',micro_f1Score)"
   ]
  },
  {
   "cell_type": "markdown",
   "metadata": {},
   "source": [
    "### Random_forest"
   ]
  },
  {
   "cell_type": "code",
   "execution_count": 45,
   "metadata": {},
   "outputs": [
    {
     "name": "stderr",
     "output_type": "stream",
     "text": [
      "C:\\Users\\Acer\\Anaconda3\\lib\\site-packages\\sklearn\\ensemble\\weight_boosting.py:29: DeprecationWarning: numpy.core.umath_tests is an internal NumPy module and should not be imported. It will be removed in a future NumPy release.\n",
      "  from numpy.core.umath_tests import inner1d\n"
     ]
    }
   ],
   "source": [
    "#Import Random Forest Model\n",
    "from sklearn.ensemble import RandomForestClassifier\n",
    "\n",
    "#Create a Gaussian Classifier\n",
    "clf=RandomForestClassifier()\n",
    "\n",
    "#Train the model using the training sets y_pred=clf.predict(X_test)\n",
    "clf.fit(X_train,Y_train)\n",
    "\n",
    "y_pred=clf.predict(X_test)"
   ]
  },
  {
   "cell_type": "code",
   "execution_count": 46,
   "metadata": {},
   "outputs": [
    {
     "name": "stdout",
     "output_type": "stream",
     "text": [
      "Classification Report \n",
      "              precision    recall  f1-score   support\n",
      "\n",
      "          0       1.00      1.00      1.00    552445\n",
      "          1       1.00      0.99      1.00      1634\n",
      "\n",
      "avg / total       1.00      1.00      1.00    554079\n",
      "\n",
      "\n",
      "\n",
      "Cofusion Metrics \n",
      " [[552445      0]\n",
      " [    10   1624]]\n",
      "\n",
      "\n",
      "Macro F1score 0.9984607908484673\n",
      "Micro F1score 0.9999819520321109\n"
     ]
    }
   ],
   "source": [
    "from sklearn.metrics import f1_score\n",
    "classification = classification_report(Y_test, y_pred)\n",
    "confusion = confusion_matrix(Y_test, y_pred)\n",
    "macro_f1Score = f1_score(Y_test, y_pred,average='macro')\n",
    "micro_f1Score = f1_score(Y_test, y_pred,average='micro')\n",
    "\n",
    "print('Classification Report \\n',classification)\n",
    "print('\\n')\n",
    "print('Cofusion Metrics \\n',confusion)\n",
    "print('\\n')\n",
    "print('Macro F1score',macro_f1Score)\n",
    "print('Micro F1score',micro_f1Score)"
   ]
  }
 ],
 "metadata": {
  "kernelspec": {
   "display_name": "Python 3",
   "language": "python",
   "name": "python3"
  },
  "language_info": {
   "codemirror_mode": {
    "name": "ipython",
    "version": 3
   },
   "file_extension": ".py",
   "mimetype": "text/x-python",
   "name": "python",
   "nbconvert_exporter": "python",
   "pygments_lexer": "ipython3",
   "version": "3.7.4"
  }
 },
 "nbformat": 4,
 "nbformat_minor": 2
}
